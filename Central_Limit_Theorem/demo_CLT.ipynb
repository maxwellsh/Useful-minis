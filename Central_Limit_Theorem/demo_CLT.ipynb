{
 "cells": [
  {
   "cell_type": "markdown",
   "metadata": {},
   "source": [
    "# Overview.\n",
    "\n",
    "This notebook provides five interactive demonstrations to explore the Central Limit Theorem and some strengths and weaknesses of nonparametric statistics.\n",
    "\n",
    "They are:\n",
    "1. The binomial convergence to normal\n",
    "2. General sample mean convergence to normal\n",
    "3. Sample mean convergence of the Cauchy distribution\n",
    "4. Nonparametric vs parametric paired-sample tests for normal data\n",
    "5. Nonparametric vs parametric non-paried tests for data with outliers"
   ]
  },
  {
   "cell_type": "code",
   "execution_count": 1,
   "metadata": {
    "collapsed": true,
    "nbpresent": {
     "id": "d5e460ce-897e-44af-91b9-f32ea3d6f011"
    }
   },
   "outputs": [],
   "source": [
    "import numpy as np\n",
    "import scipy.stats as stats\n",
    "import matplotlib.pyplot as plt\n",
    "import seaborn as sns\n",
    "from ipywidgets import interact, interactive, fixed, interact_manual\n",
    "import ipywidgets as widgets\n",
    "\n",
    "import demo_utils\n",
    "\n",
    "sns.set_context('poster')\n",
    "sns.set_style('ticks')"
   ]
  },
  {
   "cell_type": "markdown",
   "metadata": {},
   "source": [
    "## Binomial convergence to normal\n",
    "\n",
    "For $Y \\sim \\mathrm{Binom}(n, p)$, we can estimate\n",
    "$$\\hat{p} = Y/n$$\n",
    "Since $Y = \\sum_i^n X_i$ where $X_i \\sim \\mathrm{Bernoulli(p)}$, the central limit theorem implies:\n",
    "$$ \\hat{p} \\sim N(\\mu, \\sigma^2)$$\n",
    "where:\n",
    "* $\\mu = p$\n",
    "* $\\sigma^2 = pq/n$\n",
    "\n",
    "This simulation allows you to explore this convergence as n and p vary. Does the $npq>5$ rule seem right?\n",
    "\n",
    "**Params**\n",
    "* *n*: number of samples to draw from the binomial\n",
    "* *p*: probability of success under binomial"
   ]
  },
  {
   "cell_type": "code",
   "execution_count": 2,
   "metadata": {
    "nbpresent": {
     "id": "36e802eb-f96e-478a-a682-8a6422fdb677"
    }
   },
   "outputs": [
    {
     "data": {
      "application/vnd.jupyter.widget-view+json": {
       "model_id": "f51cb88f0d6f4846af9e1a4c72b563d5"
      }
     },
     "metadata": {},
     "output_type": "display_data"
    }
   ],
   "source": [
    "demo_utils.binomial_interactive();"
   ]
  },
  {
   "cell_type": "markdown",
   "metadata": {},
   "source": [
    "## The Central Limit Theorem for common distributions\n",
    "\n",
    "The binomial is not the only distribution who's sample mean will converge to a normal distribution. The Central Limit Theorem tells us that the sample mean of any *iid* observations from a distribution with finite mean and variance will converge to a normal distribution.\n",
    "\n",
    "Suppose $\\{X_1, X_2, ..., X_n\\}$ are *iid* observations from a probability distribution with mean $mu$ and variance $\\sigma^2$. \n",
    "\n",
    "Define\n",
    "$$ \\bar{X} = \\frac{1}{n} \\sum_i^n X_i.$$\n",
    "Then\n",
    "$$ \\lim_{n\\to\\infty} \\sqrt{n} \\frac{\\bar{X} - \\mu}{\\sigma} \\sim N(0, 1).$$\n",
    "\n",
    "This simulation allows you to explore this convergence for a variety of common distributions, both continuous and and discrete, by simulating $\\bar{X}$ many times.\n",
    "\n",
    "**Params**:\n",
    "* *distribution*: your choice of distribution\n",
    "* *outer_n*: number of times to simulate $\\bar{X}$\n",
    "* *inner_n*: number of observations to draw from the distribution to estimate each $\\bar{X}$\n",
    "* *density*: use kernel-density estimation (otherwise plot a histogram)"
   ]
  },
  {
   "cell_type": "code",
   "execution_count": 3,
   "metadata": {
    "nbpresent": {
     "id": "278fa8b2-f9e8-4208-adb1-346e5c372531"
    }
   },
   "outputs": [
    {
     "data": {
      "application/vnd.jupyter.widget-view+json": {
       "model_id": "3c2dc3b0af27483780cf8e51e2e95a3d"
      }
     },
     "metadata": {},
     "output_type": "display_data"
    }
   ],
   "source": [
    "demo_utils.CLT_interactive();"
   ]
  },
  {
   "cell_type": "markdown",
   "metadata": {},
   "source": [
    "## Sample mean of the Cauchy distribution\n",
    "\n",
    "The standard Cauchy distribution has the probability density function:\n",
    "$$f(x) = \\frac{1}{\\pi(1+x^2)}.$$\n",
    "\n",
    "Observations from this distribution have a peculiar property. Can you figure out what it is?"
   ]
  },
  {
   "cell_type": "code",
   "execution_count": 4,
   "metadata": {
    "nbpresent": {
     "id": "2ed462a5-b9cd-4e92-b938-3edceaf3f4d4"
    }
   },
   "outputs": [
    {
     "data": {
      "application/vnd.jupyter.widget-view+json": {
       "model_id": "5e170e3072f74265b30c968a01fdee04"
      }
     },
     "metadata": {},
     "output_type": "display_data"
    }
   ],
   "source": [
    "demo_utils.cauchy_CLT_interactive();"
   ]
  },
  {
   "cell_type": "markdown",
   "metadata": {},
   "source": [
    "## Behavior of the Signed-Rank test for paired observations\n",
    "\n",
    "Nonparametric statistics are broadly applicable under very general assumptions. The cost of this generality is power. But how much power do we lose?\n",
    "\n",
    "This simulation allows you to explore how the Wilcoxon Signed-Rank test performs compared to a paired t-test when the data truly are normally distributed.\n",
    "\n",
    "**Params**\n",
    "* *mu1*: the mean of group 1\n",
    "* *sigma1*: the standard deviation of group 1\n",
    "* *mu2*: the mean of group 2\n",
    "* *sigma2*: the standard deviation of group 2\n",
    "* *n*: the number of paired observations"
   ]
  },
  {
   "cell_type": "code",
   "execution_count": 5,
   "metadata": {
    "nbpresent": {
     "id": "e48f851b-a297-4733-8b7b-cb372974abc2"
    },
    "scrolled": true
   },
   "outputs": [
    {
     "data": {
      "application/vnd.jupyter.widget-view+json": {
       "model_id": "24ed0b5263514de9ae32a281f35f744e"
      }
     },
     "metadata": {},
     "output_type": "display_data"
    }
   ],
   "source": [
    "demo_utils.paired_sample_interactive();"
   ]
  },
  {
   "cell_type": "markdown",
   "metadata": {},
   "source": [
    "## Nonparametric vs parametric performance with outliers\n",
    "\n",
    "Commonly in biomedical data are outliers, observations which arise from a different distribution than other samples. This can be do to technical artifact or true biology.\n",
    "\n",
    "Important questions to consider when analyzing data are: 1) do my data have outliers and 2) how robust are my statistical methods to outliers? \n",
    "\n",
    "In this simulation, you can explore the performance of the Wilcoxon Rank-Sum (Mann-Whitney U) test when outliers exist. Two sets of observations are independently drawn from the same distribution; to one of these sets is added a number of observations drawn from a different distribution. Under which conditions should you use each technique?\n",
    "\n",
    "**Params**:\n",
    "* *n1*: number of observations in set 1\n",
    "* *n2*: number of observations in set 2 drawn from the same distribution as set 1\n",
    "* *n3*: number of outlier observations to add to set 2\n",
    "* mu: the mean of the outlier distribution\n",
    "* sigma: the standard deviation of the outlier distribution"
   ]
  },
  {
   "cell_type": "code",
   "execution_count": 6,
   "metadata": {
    "nbpresent": {
     "id": "bd779690-1188-44e0-8e15-6dda7b01df0d"
    }
   },
   "outputs": [
    {
     "data": {
      "application/vnd.jupyter.widget-view+json": {
       "model_id": "dfe50cec8cf343f6b57ccc6bacc61f3e"
      }
     },
     "metadata": {},
     "output_type": "display_data"
    }
   ],
   "source": [
    "demo_utils.outlier_interactive();"
   ]
  },
  {
   "cell_type": "code",
   "execution_count": null,
   "metadata": {
    "collapsed": true
   },
   "outputs": [],
   "source": []
  }
 ],
 "metadata": {
  "anaconda-cloud": {},
  "kernelspec": {
   "display_name": "Python [conda env:r-base]",
   "language": "python",
   "name": "conda-env-r-base-py"
  },
  "language_info": {
   "codemirror_mode": {
    "name": "ipython",
    "version": 3
   },
   "file_extension": ".py",
   "mimetype": "text/x-python",
   "name": "python",
   "nbconvert_exporter": "python",
   "pygments_lexer": "ipython3",
   "version": "3.6.1"
  },
  "nbpresent": {
   "slides": {
    "037036e6-9cd4-4c92-bbeb-fd841467fe21": {
     "id": "037036e6-9cd4-4c92-bbeb-fd841467fe21",
     "prev": "e90c1c19-5452-4445-a9f2-151b47ba8614",
     "regions": {
      "45eca83c-12b6-4b6e-8f31-46812142f3d8": {
       "attrs": {
        "height": 1,
        "width": 1,
        "x": 0,
        "y": 0
       },
       "content": {
        "cell": "e48f851b-a297-4733-8b7b-cb372974abc2",
        "part": "widgets"
       },
       "id": "45eca83c-12b6-4b6e-8f31-46812142f3d8"
      }
     }
    },
    "1c9be5ef-56e2-4383-b4fc-b8670a0481e1": {
     "id": "1c9be5ef-56e2-4383-b4fc-b8670a0481e1",
     "prev": null,
     "regions": {
      "453a1c51-b168-486b-aa13-85139f0f14d0": {
       "attrs": {
        "height": 1,
        "width": 1,
        "x": 0,
        "y": 0
       },
       "content": {
        "cell": "36e802eb-f96e-478a-a682-8a6422fdb677",
        "part": "widgets"
       },
       "id": "453a1c51-b168-486b-aa13-85139f0f14d0"
      }
     }
    },
    "72696757-fc30-435b-8e9c-fcc389d9cf0d": {
     "id": "72696757-fc30-435b-8e9c-fcc389d9cf0d",
     "prev": "037036e6-9cd4-4c92-bbeb-fd841467fe21",
     "regions": {
      "faef6f37-59d5-491d-9f06-564fd931e832": {
       "attrs": {
        "height": 1,
        "width": 1,
        "x": 0,
        "y": 0
       },
       "content": {
        "cell": "bd779690-1188-44e0-8e15-6dda7b01df0d",
        "part": "widgets"
       },
       "id": "faef6f37-59d5-491d-9f06-564fd931e832"
      }
     }
    },
    "ca37130f-a699-4394-b6f0-c6157c6512f7": {
     "id": "ca37130f-a699-4394-b6f0-c6157c6512f7",
     "prev": "1c9be5ef-56e2-4383-b4fc-b8670a0481e1",
     "regions": {
      "658e76c8-732f-407f-a101-f838879a0cb5": {
       "attrs": {
        "height": 1,
        "width": 1,
        "x": 0,
        "y": 0
       },
       "content": {
        "cell": "278fa8b2-f9e8-4208-adb1-346e5c372531",
        "part": "widgets"
       },
       "id": "658e76c8-732f-407f-a101-f838879a0cb5"
      }
     }
    },
    "e90c1c19-5452-4445-a9f2-151b47ba8614": {
     "id": "e90c1c19-5452-4445-a9f2-151b47ba8614",
     "prev": "ca37130f-a699-4394-b6f0-c6157c6512f7",
     "regions": {
      "0a2fcdb8-afc3-4933-95ff-8c4a06486950": {
       "attrs": {
        "height": 1,
        "width": 1,
        "x": 0,
        "y": 0
       },
       "content": {
        "cell": "2ed462a5-b9cd-4e92-b938-3edceaf3f4d4",
        "part": "widgets"
       },
       "id": "0a2fcdb8-afc3-4933-95ff-8c4a06486950"
      }
     }
    }
   },
   "themes": {}
  }
 },
 "nbformat": 4,
 "nbformat_minor": 2
}
