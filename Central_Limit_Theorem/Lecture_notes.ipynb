{
 "cells": [
  {
   "cell_type": "markdown",
   "metadata": {
    "collapsed": true,
    "nbpresent": {
     "id": "e78f44db-398e-4171-a0f5-252d93af8918"
    },
    "slideshow": {
     "slide_type": "slide"
    }
   },
   "source": [
    "# <center> Nonparametric Statistics </center>\n",
    "\n",
    "## <center> An Introduction </center>\n",
    "\n",
    "<center> Maxwell Sherman </center>\n",
    "<center> 11/02/2017 </center>"
   ]
  },
  {
   "cell_type": "markdown",
   "metadata": {},
   "source": [
    "***"
   ]
  },
  {
   "cell_type": "markdown",
   "metadata": {
    "slideshow": {
     "slide_type": "slide"
    }
   },
   "source": [
    "## Overview\n",
    "\n",
    "* The Central Limit theorem revisited\n",
    "* Nonparametric statistics in general\n",
    "* The Wilcoxon signed-rank test\n",
    "* The Wilcoxon rank sum test\n",
    "* Multi-group testing\n",
    "* Advantages and disadvantages"
   ]
  },
  {
   "cell_type": "markdown",
   "metadata": {},
   "source": [
    "***"
   ]
  },
  {
   "cell_type": "markdown",
   "metadata": {
    "collapsed": true,
    "slideshow": {
     "slide_type": "slide"
    }
   },
   "source": [
    "# <center> The Central Limit Theorem 2.0 </center>"
   ]
  },
  {
   "cell_type": "markdown",
   "metadata": {
    "slideshow": {
     "slide_type": "subslide"
    }
   },
   "source": [
    "## Recall from Lecture 2:\n",
    "\n",
    "Let $X_i$ be observations from some probability distribution with mean $\\mu$ and variance $\\sigma^2$.\n",
    "\n",
    "Then we can estimate the true mean of $X$ ($E[X]$) using the sample mean:\n",
    "\n",
    "<center> $\\bar{x} = \\frac{1}{n} \\sum_{i=1}^{n} X_i$ </center>\n",
    "\n",
    "Remarkably: \n",
    "\n",
    "<center>$\\bar{x} \\sim N(0, \\frac{\\sigma^2}{n}$)</center>\n",
    "\n",
    "We've seen from Giorgio how this applies to the gamma distribution...how about others?."
   ]
  },
  {
   "cell_type": "markdown",
   "metadata": {
    "slideshow": {
     "slide_type": "subslide"
    }
   },
   "source": [
    "Let's say we have a bunch of $\\bar{x}$: $\\{\\bar{x}_1,\\bar{x}_2,...,\\bar{x}_n\\}$<br>\n",
    "\n",
    "How can we evaluate if the CLT applies?\n",
    "\n",
    "Well $$\\bar{x_i} \\sim N\\left(\\mu, \\frac{\\sigma^2}{n}\\right) \\rightarrow \\sqrt{n}\\frac{(\\bar{x}_i-\\mu)}{\\sigma} \\sim N(0, 1)$$ \n",
    "<center>(Can you show this?)</center>\n",
    "\n",
    "So let's check that the normalized $\\bar{x_i}$ follow a standard normal distribution."
   ]
  },
  {
   "cell_type": "markdown",
   "metadata": {
    "slideshow": {
     "slide_type": "subslide"
    }
   },
   "source": [
    "## What does this look like in R?\n",
    "\n",
    "Let's use the binomial distribution with n=100, p=0.25"
   ]
  },
  {
   "cell_type": "code",
   "execution_count": 3,
   "metadata": {
    "slideshow": {
     "slide_type": "fragment"
    }
   },
   "outputs": [
    {
     "data": {
      "image/png": "[encoded data removed]",
      "text/plain": [
       "Plot with title “Histogram of xbar.normed”"
      ]
     },
     "metadata": {},
     "output_type": "display_data"
    }
   ],
   "source": [
    "n   <- 100\n",
    "p   <- 0.25\n",
    "mu  <- n * p\n",
    "var <- n * p * (1-p)\n",
    "sig <- sqrt(var)\n",
    "\n",
    "par(mfrow=c(1, 2))\n",
    "plot(1:100, dbinom(1:100, n, p), type='b')  # plot the probability density function\n",
    "\n",
    "n.outer <- 1000  # number of xbar\n",
    "n.inner <- 50    # number of draws per xbar (n for sample mean calculation)\n",
    "\n",
    "xbar.list <- sapply(1:n.outer, function(x) mean(rbinom(n.inner, n, p)))  # simulate from the binomial\n",
    "xbar.normed <- sapply(xbar.list, function(x) sqrt(n.inner) * (x - mu) / sig) #\n",
    "hist(xbar.normed, breaks=30, freq=F, xlim=c(-3, 3))\n",
    "lines(seq(-3, 3, 0.01), dnorm(seq(-3, 3, 0.01)))"
   ]
  },
  {
   "cell_type": "markdown",
   "metadata": {
    "collapsed": true,
    "slideshow": {
     "slide_type": "subslide"
    }
   },
   "source": [
    "## The Central Limit Theorem (formally)\n",
    "\n",
    "Let $X_1, X_2, ..., X_n$ be **independent and identically distributed** random variables **with** $E[X_i] = \\mu <\\infty$ and $Var(X_i) = \\sigma^2 <\\infty$\n",
    "\n",
    "Define $$\\bar{X} = \\frac{1}{n}\\sum_{i=1}^n X_i.$$\n",
    "\n",
    "Then $$\\lim_{n\\to\\infty} \\sqrt{n} \\frac{(\\bar{X} - \\mu)}{\\sigma} \\sim N(0, 1).$$"
   ]
  },
  {
   "cell_type": "markdown",
   "metadata": {
    "slideshow": {
     "slide_type": "subslide"
    }
   },
   "source": [
    "## Why does the Cauchy distribution violate the CLT?\n",
    "\n",
    "The standard Cauchy distribution has the probability density function:\n",
    "$$f(x) = \\frac{1} {\\pi (1 + x^2)}$$"
   ]
  },
  {
   "cell_type": "markdown",
   "metadata": {
    "slideshow": {
     "slide_type": "fragment"
    }
   },
   "source": [
    "Let $X \\sim f(x)$. It can be shown\n",
    "1. $E[X]$ is undefined (not so easy)\n",
    "2. $Var(X)$ is not finite (easy)"
   ]
  },
  {
   "cell_type": "markdown",
   "metadata": {
    "slideshow": {
     "slide_type": "fragment"
    }
   },
   "source": [
    "$$E[X^2] \\propto \\int_{-\\infty}^{\\infty} \\frac{x^2}{1+x^2} dx = \\int_{-\\infty}^{\\infty} 1 - \\frac{1}{1+x^2}\n",
    "   = \\int_{-\\infty}^{\\infty} dx + \\tan^{-1}(x)\\Big|_{-\\infty}^{\\infty} = \\infty$$"
   ]
  },
  {
   "cell_type": "markdown",
   "metadata": {},
   "source": [
    "***"
   ]
  },
  {
   "cell_type": "markdown",
   "metadata": {
    "slideshow": {
     "slide_type": "slide"
    }
   },
   "source": [
    "# <center>Nonparametric statistics overview</center> "
   ]
  },
  {
   "cell_type": "markdown",
   "metadata": {
    "slideshow": {
     "slide_type": "subslide"
    }
   },
   "source": [
    "## Beyond the Central Limit Theorem\n",
    "\n",
    "When we have a small sample size, the t-test requires:\n",
    "* the data are generated from a normal distribution.\n",
    "\n",
    "When we have a large sample size, the CLT tells us everything is normal...except the central limit theorem can fail when:\n",
    "* observations are not identically distributed (outliers).\n",
    "* observations are not independent (correlation).\n",
    "* Variance is not (obviously) finite.\n",
    "\n",
    "What do we do if we have a small sample size and fear non-normality?<br>\n",
    "What do we do if we have a large sample size but fear the *iid* assumption is not valid?"
   ]
  },
  {
   "cell_type": "markdown",
   "metadata": {
    "slideshow": {
     "slide_type": "fragment"
    }
   },
   "source": [
    "**<center>Nonparametric statistics</center>**"
   ]
  },
  {
   "cell_type": "markdown",
   "metadata": {
    "slideshow": {
     "slide_type": "subslide"
    }
   },
   "source": [
    "## What does \"nonparametric\" mean?"
   ]
  },
  {
   "cell_type": "markdown",
   "metadata": {
    "slideshow": {
     "slide_type": "fragment"
    }
   },
   "source": [
    "**Parametric** statistics: assume the data come from a distribution defined by the values of a finite number of parameters.\n",
    "* We infer these parameters from the data itself.\n",
    "* E.g. the t-test is a parametric model of mean ($\\mu$) and variance ($S$)."
   ]
  },
  {
   "cell_type": "markdown",
   "metadata": {
    "slideshow": {
     "slide_type": "fragment"
    }
   },
   "source": [
    "**Nonparametric** statistics: everything else\n",
    "* Models with no parameters\n",
    "* Models with an infinite number of parameters (yes, this is confusing)\n",
    "* What nonparametric models have we already seen?"
   ]
  },
  {
   "cell_type": "markdown",
   "metadata": {
    "slideshow": {
     "slide_type": "subslide"
    }
   },
   "source": [
    "## General approach of nonparametric methods\n",
    "\n",
    "The steps are largely the same as parametric testing:\n",
    "1. Record a random selection of observations\n",
    "2. Specify null and alternate hypotheses\n",
    "3. Calculate a test statistic\n",
    "4. Accept or reject null based on extremity of test statistic\n",
    "\n",
    "Major difference: nonparametric methods work with rank (or order) of observations relative to each other.\n",
    "* Models specified based on how we expect the ranks to behave.\n",
    "* Implementations often still rely on the Central Limit Theorem for numerical stability."
   ]
  },
  {
   "cell_type": "markdown",
   "metadata": {},
   "source": [
    "***"
   ]
  },
  {
   "cell_type": "markdown",
   "metadata": {
    "collapsed": true,
    "slideshow": {
     "slide_type": "slide"
    }
   },
   "source": [
    "# <center>Wilcoxon Signed-Rank Test</center>"
   ]
  },
  {
   "cell_type": "markdown",
   "metadata": {
    "slideshow": {
     "slide_type": "subslide"
    }
   },
   "source": [
    "## What is the Wilcoxon Signed-Rank Test?\n",
    "\n",
    "Nonparametric version of the paired t-test\n",
    "\n",
    "Samples from two groups are paired; test if the two groups have the same mean location.\n",
    "\n",
    "Example:\n",
    "* We want to test if a certain gene is differentially expressed in tumor cells\n",
    "* Collect normal cells and tumor cells from each patient\n",
    "* Measure expression in each tumor-normal pair\n",
    "* Is the expression level different?"
   ]
  },
  {
   "cell_type": "markdown",
   "metadata": {
    "slideshow": {
     "slide_type": "subslide"
    }
   },
   "source": [
    "## Wilcoxon Signed-Rank Test method\n",
    "**In theory**: If groups have the same mean, the difference between pairs should randomly be positive or negative. Many positive or negative pairs suggests different means.\n",
    "\n",
    "In practice:\n",
    "1. Calculate the difference between each pair, $D_i = X_i - Y_i$\n",
    "2. Rank the pairs by absolute value of the differences from smallest to largest\n",
    "    * If difference is zero, discard the pair and reduce n by 1.\n",
    "    * Tied observations are assigned an average rank.\n",
    "3. Sum the ranks with positive differences:\n",
    "$$ T^+ = \\sum_i R_i \\cdot \\mathbb{1}(D_i>0)$$"
   ]
  },
  {
   "cell_type": "markdown",
   "metadata": {
    "slideshow": {
     "slide_type": "subslide"
    }
   },
   "source": [
    "## Wilcoxon Signed-Rank Test Statistic\n",
    "\n",
    "$H_0: D = 0 \\qquad H_a: D \\neq 0$ \n",
    "\n",
    "Under the null, the distribution of $T^+$ is complex, but it has finite mean and variance:\n",
    "$$ E[T^+] = \\mu = \\frac{n(n+1)}{4}$$\n",
    "$$Var(T^+) = \\sigma^2  = \\frac{n(n+t)(2n+1)}{24}$$\n",
    "So for n large(-ish) the Central Limit Theorem tells us:\n",
    "$$ Z = \\frac{T^+ - \\mu}{\\sigma} \\sim N(0, 1)$$"
   ]
  },
  {
   "cell_type": "markdown",
   "metadata": {
    "slideshow": {
     "slide_type": "subslide"
    }
   },
   "source": [
    "## An Example in R\n",
    "\n",
    "Let's assume\n",
    "* gene expression in tumor: $X_i \\sim N(10, 5^2)$ <br>\n",
    "* gene expression in normal: $Y_i \\sim N(15, 5^2)$\n",
    "* We have 25 pairs of observations"
   ]
  },
  {
   "cell_type": "code",
   "execution_count": 39,
   "metadata": {
    "slideshow": {
     "slide_type": "fragment"
    }
   },
   "outputs": [
    {
     "name": "stdout",
     "output_type": "stream",
     "text": [
      "[1] 27\n"
     ]
    }
   ],
   "source": [
    "set.seed(123)  # set random seed so we always generate the same numbers\n",
    "\n",
    "X.list <- rnorm(25, mean=10, sd=5)\n",
    "Y.list <- rnorm(25, mean=15, sd=5)\n",
    "D.list <- X.list - Y.list  # simulating from continous distributions, D_i will never be zero\n",
    "\n",
    "df <- data.frame(X = X.list, Y=Y.list, D=D.list)  # make a dataframe\n",
    "df.sort <- df[order(abs(D.list)), ]  # sort by absolute difference\n",
    "df.sort$rank <- 1:nrow(df.sort)  # add the rank\n",
    "\n",
    "T <- sum(df.sort$rank[df.sort$D > 0])  # manually calculate the T statistics\n",
    "print(T)"
   ]
  },
  {
   "cell_type": "code",
   "execution_count": 41,
   "metadata": {
    "slideshow": {
     "slide_type": "fragment"
    }
   },
   "outputs": [
    {
     "name": "stdout",
     "output_type": "stream",
     "text": [
      "\n",
      "\tWilcoxon signed rank test\n",
      "\n",
      "data:  X.list and Y.list\n",
      "V = 27, p-value = 7.498e-05\n",
      "alternative hypothesis: true location shift is not equal to 0\n",
      "\n"
     ]
    }
   ],
   "source": [
    "w.test <- wilcox.test(X.list, Y.list, paired=T)  # Automatic calculation of T statistic with p-value\n",
    "print(w.test)"
   ]
  },
  {
   "cell_type": "markdown",
   "metadata": {},
   "source": [
    "***"
   ]
  },
  {
   "cell_type": "markdown",
   "metadata": {
    "slideshow": {
     "slide_type": "slide"
    }
   },
   "source": [
    "# <center> Wilcoxon Rank Sum Test (Mann-Whitney U test) </center> "
   ]
  },
  {
   "cell_type": "markdown",
   "metadata": {
    "slideshow": {
     "slide_type": "subslide"
    }
   },
   "source": [
    "## What is the Wilcoxon Rank Sum Test?\n",
    "\n",
    "Nonparametric version of the unpaired, *equal-variance* t-test.\n",
    "\n",
    "We have observations from two independent groups; test if the two populations have the same location. \n",
    "\n",
    "Intuitive motivation:\n",
    "* If groups have the same location, then all observations should be approximately the same size. Once ordered, the rank sums of each group should be approximately proportional to their respective sizes. "
   ]
  },
  {
   "cell_type": "markdown",
   "metadata": {
    "slideshow": {
     "slide_type": "subslide"
    }
   },
   "source": [
    "## Wilcoxon Rank Sum method\n",
    "Suppose there are $n_1$ observations in group 1 and $n_2$ observations in group 2\n",
    "\n",
    "1. Order all $n_1 + n_2$ observations.\n",
    "2. Assign ranks from lowest to highest.\n",
    "3. Sum the ranks belonging to group 2 observations:\n",
    "$$ W = \\sum_i^{n_1 + n_2} R_i \\cdot \\mathbb{1}(i \\in \\mathrm{Group 2}).$$\n",
    "4. Calculate (Mann-Whitney):\n",
    "$$ U = n_1 n_2 + \\frac{n_1(n_1+1)}{2} - W.$$"
   ]
  },
  {
   "cell_type": "markdown",
   "metadata": {
    "slideshow": {
     "slide_type": "subslide"
    }
   },
   "source": [
    "## Wilcoxon Rank Sum statistic\n",
    "\n",
    "For small sample sizes, the distribution of $W$ can be calculated directly with elementary probability.\n",
    "For large sample sizes, we use the Central Limit Theorem:\n",
    "$$ Z = \\frac {U - \\mu}{\\sigma}$$\n",
    "where:\n",
    "$$\\mu = \\frac{n_1 n_2}{2}$$\n",
    "$$\\sigma^2 = \\frac {n_1 n_2 (n_1 + n_2 + 1)}{12}$$"
   ]
  },
  {
   "cell_type": "markdown",
   "metadata": {
    "collapsed": true,
    "slideshow": {
     "slide_type": "subslide"
    }
   },
   "source": [
    "## An example in R\n",
    "\n",
    "Suppose we are testing the effect of a new medication to decrease blood pressure\n",
    "Group 1 is given the medication.\n",
    "Group 2 is given placebo.\n",
    "We collect the following observations:\n",
    "\n",
    "|Group 1 Blood Pressure| Group 2 Blood Pressure |\n",
    "| -------------------- | ---------------------- |\n",
    "| 135                  | 160                    |\n",
    "| 155                  | 145                    |\n",
    "| 130                  | 175                    |\n",
    "| 125                  | 140                    |\n",
    "\n",
    "Is the treatment effective?"
   ]
  },
  {
   "cell_type": "code",
   "execution_count": 61,
   "metadata": {
    "slideshow": {
     "slide_type": "fragment"
    }
   },
   "outputs": [
    {
     "name": "stdout",
     "output_type": "stream",
     "text": [
      "[1] 2\n"
     ]
    }
   ],
   "source": [
    "group.1 <- c(135, 155, 130, 125)\n",
    "group.2 <- c(160, 145, 175, 140)\n",
    "n1 <- length(group.1)\n",
    "n2 <- length(group.2)\n",
    "label.1 <- rep(1, n1)\n",
    "label.2 <- rep(2, n2)\n",
    "\n",
    "grouped <- c(group.1, group.2)  # Combined observations\n",
    "labels <- c(label.1, label.2)   # Merge labels\n",
    "labels.sort <- labels[order(grouped)]  # Sort labels based on order of observations\n",
    "\n",
    "rank <- 1:length(grouped)\n",
    "W <- sum(rank[labels.sort == 2])  # Sum the rank of group 2 observations (this is how R does it)\n",
    "U <- n1*n2 + n1*(n1+1)/2 - W  # Manually determine U statistic\n",
    "print(U)"
   ]
  },
  {
   "cell_type": "code",
   "execution_count": 62,
   "metadata": {
    "slideshow": {
     "slide_type": "fragment"
    }
   },
   "outputs": [
    {
     "data": {
      "text/plain": [
       "\n",
       "\tWilcoxon rank sum test\n",
       "\n",
       "data:  group.1 and group.2\n",
       "W = 2, p-value = 0.1143\n",
       "alternative hypothesis: true location shift is not equal to 0\n"
      ]
     },
     "metadata": {},
     "output_type": "display_data"
    }
   ],
   "source": [
    "# Automatically determine U statistic and p-value\n",
    "wilcox.test(group.1, group.2)"
   ]
  },
  {
   "cell_type": "markdown",
   "metadata": {},
   "source": [
    "***"
   ]
  },
  {
   "cell_type": "markdown",
   "metadata": {
    "slideshow": {
     "slide_type": "slide"
    }
   },
   "source": [
    "# <center> Multi-group testing </center>"
   ]
  },
  {
   "cell_type": "markdown",
   "metadata": {
    "slideshow": {
     "slide_type": "subslide"
    }
   },
   "source": [
    "What if we have more than two groups to test?\n",
    "\n",
    "* Parametric Statistcs: ANOVA\n",
    "* Nonparametric Statistics: Kruskal-Wallis test"
   ]
  },
  {
   "cell_type": "markdown",
   "metadata": {
    "slideshow": {
     "slide_type": "fragment"
    }
   },
   "source": [
    "In summary:\n",
    "* Paired t-test $\\rightarrow$ Wilcoxon signed-rank test\n",
    "* Unpaired (equal variance) t-test $\\rightarrow$ Wilcoxon rank sum test (Mann-Whitney U Test)\n",
    "* ANOVA $\\rightarrow$ Kruskal-Wallis test"
   ]
  },
  {
   "cell_type": "markdown",
   "metadata": {},
   "source": [
    "***"
   ]
  },
  {
   "cell_type": "markdown",
   "metadata": {
    "slideshow": {
     "slide_type": "slide"
    }
   },
   "source": [
    "# <center>Advantages and Disadvantages </center>"
   ]
  },
  {
   "cell_type": "markdown",
   "metadata": {
    "slideshow": {
     "slide_type": "subslide"
    }
   },
   "source": [
    "## Advantages of nonparametric tests "
   ]
  },
  {
   "cell_type": "markdown",
   "metadata": {
    "slideshow": {
     "slide_type": "fragment"
    }
   },
   "source": [
    "Nonparametric methods work well under very general assumptions about the underlying probability distributions.\n",
    "* Nonparametric tests are robust to non-normality\n",
    "    + Less sensitive to measurement errors\n",
    "    + Less sensitive to outliers\n",
    "    "
   ]
  },
  {
   "cell_type": "markdown",
   "metadata": {
    "slideshow": {
     "slide_type": "fragment"
    }
   },
   "source": [
    "* Nonparametric tests can apply even when the CLT does not\n",
    "    + Observations come from a variety of distributions\n",
    "    + Observations are correlated"
   ]
  },
  {
   "cell_type": "markdown",
   "metadata": {
    "slideshow": {
     "slide_type": "fragment"
    }
   },
   "source": [
    "* Nonparametric tests can be used on difficult-to-quantify data\n",
    "    + e.g. Subjective evaluations (physician notes on a patient)"
   ]
  },
  {
   "cell_type": "markdown",
   "metadata": {
    "slideshow": {
     "slide_type": "subslide"
    }
   },
   "source": [
    "## Disadvantages of nonparametric tests"
   ]
  },
  {
   "cell_type": "markdown",
   "metadata": {
    "slideshow": {
     "slide_type": "fragment"
    }
   },
   "source": [
    "As a rule of thumb:<br>\n",
    "**<center>Fewer assumptions = Less power</center>**\n",
    "\n",
    "If the data really do come from normal distributions:\n",
    "\n",
    "| Parametric | Nonparametric |\n",
    "| ---------- | ------------- |\n",
    "| More sensitive | Less sensitive |\n",
    "| Confidence intervals easy | Confidence intervals hard |"
   ]
  },
  {
   "cell_type": "markdown",
   "metadata": {},
   "source": [
    "***"
   ]
  },
  {
   "cell_type": "markdown",
   "metadata": {
    "slideshow": {
     "slide_type": "slide"
    }
   },
   "source": [
    "# <center> Any questions? </center>"
   ]
  }
 ],
 "metadata": {
  "anaconda-cloud": {},
  "kernelspec": {
   "display_name": "R [conda env:r-base]",
   "language": "R",
   "name": "conda-env-r-base-r"
  },
  "language_info": {
   "codemirror_mode": "r",
   "file_extension": ".r",
   "mimetype": "text/x-r-source",
   "name": "R",
   "pygments_lexer": "r",
   "version": "3.3.2"
  },
  "nbpresent": {
   "slides": {
    "1bf71056-8b45-4205-ba01-e17efebc6214": {
     "id": "1bf71056-8b45-4205-ba01-e17efebc6214",
     "prev": null,
     "regions": {
      "8ff1bece-7f9d-43c6-81bb-783fb5e0826f": {
       "attrs": {
        "height": 0.8,
        "width": 0.8,
        "x": 0.1,
        "y": 0.1
       },
       "id": "8ff1bece-7f9d-43c6-81bb-783fb5e0826f"
      },
      "b28754a7-9e05-4a91-a823-b61704db21cb": {
       "attrs": {
        "height": 0.8,
        "width": 0.8,
        "x": 0.1,
        "y": 0.1
       },
       "id": "b28754a7-9e05-4a91-a823-b61704db21cb"
      }
     }
    },
    "9f4b0c1d-fdfa-4780-9f08-057fb43f4395": {
     "id": "9f4b0c1d-fdfa-4780-9f08-057fb43f4395",
     "layout": "grid",
     "prev": "1bf71056-8b45-4205-ba01-e17efebc6214",
     "regions": {}
    }
   },
   "themes": {}
  }
 },
 "nbformat": 4,
 "nbformat_minor": 2
}
