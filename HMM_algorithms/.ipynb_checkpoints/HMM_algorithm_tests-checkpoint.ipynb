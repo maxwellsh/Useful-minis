{
 "cells": [
  {
   "cell_type": "code",
   "execution_count": 1,
   "metadata": {
    "collapsed": false
   },
   "outputs": [],
   "source": [
    "import numpy as np\n",
    "from hmm_algs import *\n",
    "\n",
    "%load_ext autoreload\n",
    "%autoreload 2"
   ]
  },
  {
   "cell_type": "markdown",
   "metadata": {},
   "source": [
    "## Data usage note\n",
    "\n",
    "The file \"hmmgen\" is from Manolis Kellis' Advanced Computational Biology course at MIT. I provide this data for demonstration purposes only. Please contact Manolis if you would like to distribute this file. Feel free to use and distributed the code (which is of my own creation) as you see fit, however!"
   ]
  },
  {
   "cell_type": "markdown",
   "metadata": {},
   "source": [
    "## Viterbi algorithm\n",
    "\n",
    "Here I demonstrate the use of Viterbi decoding to identify GC-rich regions of a genome. The Viterbi algorithm calculates that maximum likelihood path over the observed data:\n",
    "\n",
    "$$\n",
    "argmax_{P} P(X | P).\n",
    "$$\n",
    "\n",
    "This can be solved in polynomial time using dynamic programming by noting that if you know the maximum probability of being in all previous states up to time $t-1$, the maximum probability of being in state $k \\in S$ at time $t$ is\n",
    "\n",
    "$$\n",
    "max_{y \\in S} P(X | y)\\cdot P(k | y) \\cdot V_{t-1,y} \n",
    "$$\n",
    "where $P(k|y)$ is the transition probability of going from state $y$ to $k$ and $V_{t-1, y}$ is the maximum probability of being in state y at time $t-1$.\n",
    "\n",
    "The practical complication is that $0 < P(\\cdot) \\leq 1$, and a long string of multiplications of numbers in $[0, 1]$ leads to underflow errors. Fortunately, we can simply take logarithms and convert the multiplication to addition."
   ]
  },
  {
   "cell_type": "code",
   "execution_count": 2,
   "metadata": {
    "collapsed": true
   },
   "outputs": [],
   "source": [
    "base_idx = { 'A' : 0, 'G' : 1, 'C' : 2, 'T' : 3 }\n",
    "state_idx = { '+' : 0, '-' : 1 }\n",
    "\n",
    "# initial distribution over states, i.e. probability of starting in state k\n",
    "init_dist = [0.5,0.5]\n",
    "\n",
    "# transition probabilities\n",
    "tr = [\n",
    "    #  to+   to-\n",
    "    [ 0.99, 0.01 ], # from+\n",
    "    [ 0.01, 0.99 ]  # from-\n",
    "]\n",
    "\n",
    "# emission probabilities\n",
    "em = [\n",
    "    #    A     G     C     T\n",
    "    [ 0.20, 0.30, 0.30, 0.20], # +\n",
    "    [ 0.30, 0.20, 0.20, 0.30]  # -\n",
    "]\n",
    "\n",
    "em_log = [[np.log(p) for p in r] for r in em]"
   ]
  },
  {
   "cell_type": "code",
   "execution_count": 3,
   "metadata": {
    "collapsed": false
   },
   "outputs": [],
   "source": [
    "with open(\"hmmgen\") as f:\n",
    "    X = f.readline().strip()\n",
    "    ref = f.readline().strip()\n",
    "    \n",
    "X = [base_idx[l] for l in X]\n",
    "ref = [state_idx[s] for s in ref]"
   ]
  },
  {
   "cell_type": "code",
   "execution_count": 4,
   "metadata": {
    "collapsed": false
   },
   "outputs": [],
   "source": [
    "em_fn = em_matrix(em_log)"
   ]
  },
  {
   "cell_type": "code",
   "execution_count": 5,
   "metadata": {
    "collapsed": false
   },
   "outputs": [
    {
     "name": "stdout",
     "output_type": "stream",
     "text": [
      "CPU times: user 1.58 s, sys: 31.3 ms, total: 1.61 s\n",
      "Wall time: 1.61 s\n"
     ]
    }
   ],
   "source": [
    "%%time\n",
    "Y, V = viterbi(X, tr, em_fn, init_dist)"
   ]
  },
  {
   "cell_type": "code",
   "execution_count": 6,
   "metadata": {
    "collapsed": false
   },
   "outputs": [
    {
     "data": {
      "text/plain": [
       "0.83314"
      ]
     },
     "execution_count": 6,
     "metadata": {},
     "output_type": "execute_result"
    }
   ],
   "source": [
    "anno_accuracy(ref, Y)"
   ]
  },
  {
   "cell_type": "markdown",
   "metadata": {},
   "source": [
    "## Forward algorithm"
   ]
  },
  {
   "cell_type": "markdown",
   "metadata": {},
   "source": [
    "Here is a mini example of the Forward algorithm, used to calculate P(X | M), the total probability of the observations given the model. The mathematics of the forward algorithm require sums as well as multiplication, so unfortunately the logarithm trick will not work here. Instead, we scale the probabilities to keep them from becoming arbitrarily small. See http://www.cs.rochester.edu/u/james/CSC248/Lec11.pdf for details."
   ]
  },
  {
   "cell_type": "code",
   "execution_count": 7,
   "metadata": {
    "collapsed": false
   },
   "outputs": [],
   "source": [
    "base_idx = { 'R' : 0, 'W' : 1, 'B': 2}\n",
    "state_idx = { '+' : 0, '-' : 1 }\n",
    "\n",
    "# initial distribution over states, i.e. probability of starting in state k\n",
    "init_dist = [0.8, 0.2]\n",
    "\n",
    "# transition probabilities\n",
    "tr = [\n",
    "    #  to+   to-\n",
    "    [ 0.60, 0.40 ], # from+\n",
    "    [ 0.30, 0.70 ]  # from-\n",
    "]\n",
    "\n",
    "# emission probabilities\n",
    "em = [\n",
    "    #    R     W     B\n",
    "    [ 0.30, 0.40, 0.30], # +\n",
    "    [ 0.40, 0.30, 0.30]  # -\n",
    "]\n",
    "\n",
    "em_log = [[np.log(p) for p in r] for r in em]"
   ]
  },
  {
   "cell_type": "code",
   "execution_count": 8,
   "metadata": {
    "collapsed": false
   },
   "outputs": [],
   "source": [
    "em_fn = em_matrix(em)"
   ]
  },
  {
   "cell_type": "code",
   "execution_count": 9,
   "metadata": {
    "collapsed": false
   },
   "outputs": [
    {
     "data": {
      "text/plain": [
       "array([[ 0.3,  0.4,  0.3],\n",
       "       [ 0.4,  0.3,  0.3]])"
      ]
     },
     "execution_count": 9,
     "metadata": {},
     "output_type": "execute_result"
    }
   ],
   "source": [
    "np.array(em)"
   ]
  },
  {
   "cell_type": "code",
   "execution_count": 10,
   "metadata": {
    "collapsed": true
   },
   "outputs": [],
   "source": [
    "X = [0, 1, 2, 2]"
   ]
  },
  {
   "cell_type": "markdown",
   "metadata": {},
   "source": [
    "### Using loops"
   ]
  },
  {
   "cell_type": "code",
   "execution_count": 11,
   "metadata": {
    "collapsed": false
   },
   "outputs": [
    {
     "name": "stdout",
     "output_type": "stream",
     "text": [
      "CPU times: user 117 µs, sys: 10 µs, total: 127 µs\n",
      "Wall time: 134 µs\n"
     ]
    }
   ],
   "source": [
    "%%time\n",
    "C, F = forward(X, tr, em_fn, init_dist, method='loop')"
   ]
  },
  {
   "cell_type": "code",
   "execution_count": 12,
   "metadata": {
    "collapsed": false
   },
   "outputs": [
    {
     "data": {
      "text/plain": [
       "[0.32, 0.3525, 0.3, 0.3]"
      ]
     },
     "execution_count": 12,
     "metadata": {},
     "output_type": "execute_result"
    }
   ],
   "source": [
    "C"
   ]
  },
  {
   "cell_type": "code",
   "execution_count": 13,
   "metadata": {
    "collapsed": false
   },
   "outputs": [
    {
     "data": {
      "text/plain": [
       "[[0.75, 0.25000000000000006],\n",
       " [0.5957446808510638, 0.40425531914893625],\n",
       " [0.4787234042553191, 0.5212765957446809],\n",
       " [0.44361702127659575, 0.5563829787234043]]"
      ]
     },
     "execution_count": 13,
     "metadata": {},
     "output_type": "execute_result"
    }
   ],
   "source": [
    "F"
   ]
  },
  {
   "cell_type": "code",
   "execution_count": 30,
   "metadata": {
    "collapsed": false
   },
   "outputs": [
    {
     "data": {
      "text/plain": [
       "0.010151999999999998"
      ]
     },
     "execution_count": 30,
     "metadata": {},
     "output_type": "execute_result"
    }
   ],
   "source": [
    "# Total probability is the product of C\n",
    "np.prod(C)"
   ]
  },
  {
   "cell_type": "markdown",
   "metadata": {},
   "source": [
    "#### With scaling vectorized"
   ]
  },
  {
   "cell_type": "code",
   "execution_count": 15,
   "metadata": {
    "collapsed": false
   },
   "outputs": [
    {
     "name": "stdout",
     "output_type": "stream",
     "text": [
      "CPU times: user 236 µs, sys: 5.05 ms, total: 5.28 ms\n",
      "Wall time: 19.5 ms\n"
     ]
    }
   ],
   "source": [
    "%%time\n",
    "C, F = forward(X, tr, em_fn, init_dist, method='vector')"
   ]
  },
  {
   "cell_type": "code",
   "execution_count": 16,
   "metadata": {
    "collapsed": false
   },
   "outputs": [
    {
     "data": {
      "text/plain": [
       "[0.32, 0.35250000000000004, 0.29999999999999999, 0.29999999999999999]"
      ]
     },
     "execution_count": 16,
     "metadata": {},
     "output_type": "execute_result"
    }
   ],
   "source": [
    "C"
   ]
  },
  {
   "cell_type": "code",
   "execution_count": 17,
   "metadata": {
    "collapsed": false
   },
   "outputs": [
    {
     "data": {
      "text/plain": [
       "[[0.75, 0.25000000000000006],\n",
       " array([ 0.59574468,  0.40425532]),\n",
       " array([ 0.4787234,  0.5212766]),\n",
       " array([ 0.44361702,  0.55638298])]"
      ]
     },
     "execution_count": 17,
     "metadata": {},
     "output_type": "execute_result"
    }
   ],
   "source": [
    "F"
   ]
  },
  {
   "cell_type": "code",
   "execution_count": 18,
   "metadata": {
    "collapsed": false
   },
   "outputs": [
    {
     "data": {
      "text/plain": [
       "0.010152"
      ]
     },
     "execution_count": 18,
     "metadata": {},
     "output_type": "execute_result"
    }
   ],
   "source": [
    "# Total probability is the product of C\n",
    "np.prod(C)"
   ]
  },
  {
   "cell_type": "markdown",
   "metadata": {},
   "source": [
    "### Using hmmgen data"
   ]
  },
  {
   "cell_type": "code",
   "execution_count": 19,
   "metadata": {
    "collapsed": true
   },
   "outputs": [],
   "source": [
    "base_idx = { 'A' : 0, 'G' : 1, 'C' : 2, 'T' : 3 }\n",
    "state_idx = { '+' : 0, '-' : 1 }\n",
    "\n",
    "# initial distribution over states, i.e. probability of starting in state k\n",
    "init_dist = [0.5,0.5]\n",
    "\n",
    "# transition probabilities\n",
    "tr = [\n",
    "    #  to+   to-\n",
    "    [ 0.99, 0.01 ], # from+\n",
    "    [ 0.01, 0.99 ]  # from-\n",
    "]\n",
    "\n",
    "\n",
    "# emission probabilities\n",
    "em = [\n",
    "    #    A     G     C     T\n",
    "    [ 0.20, 0.30, 0.30, 0.20], # +\n",
    "    [ 0.30, 0.20, 0.20, 0.30]  # -\n",
    "]\n",
    "\n",
    "em_log = [[np.log(p) for p in r] for r in em]"
   ]
  },
  {
   "cell_type": "code",
   "execution_count": 20,
   "metadata": {
    "collapsed": false
   },
   "outputs": [],
   "source": [
    "with open(\"hmmgen\") as f:\n",
    "    X = f.readline().strip()\n",
    "    ref = f.readline().strip()\n",
    "    \n",
    "X = [base_idx[l] for l in X]\n",
    "ref = [state_idx[s] for s in ref]"
   ]
  },
  {
   "cell_type": "code",
   "execution_count": 21,
   "metadata": {
    "collapsed": true
   },
   "outputs": [],
   "source": [
    "em_fn = em_matrix(em)"
   ]
  },
  {
   "cell_type": "markdown",
   "metadata": {},
   "source": [
    "#### Vectorized"
   ]
  },
  {
   "cell_type": "code",
   "execution_count": 22,
   "metadata": {
    "collapsed": false
   },
   "outputs": [
    {
     "name": "stdout",
     "output_type": "stream",
     "text": [
      "CPU times: user 596 ms, sys: 17.7 ms, total: 614 ms\n",
      "Wall time: 612 ms\n"
     ]
    }
   ],
   "source": [
    "%%time\n",
    "C, F = forward(X, tr, em_fn, init_dist)"
   ]
  },
  {
   "cell_type": "code",
   "execution_count": 23,
   "metadata": {
    "collapsed": false
   },
   "outputs": [
    {
     "data": {
      "text/plain": [
       "-137843.0247453147"
      ]
     },
     "execution_count": 23,
     "metadata": {},
     "output_type": "execute_result"
    }
   ],
   "source": [
    "# Log-likelihood of the data\n",
    "np.sum(np.log(C))"
   ]
  },
  {
   "cell_type": "markdown",
   "metadata": {},
   "source": [
    "#### Loops"
   ]
  },
  {
   "cell_type": "code",
   "execution_count": 24,
   "metadata": {
    "collapsed": false
   },
   "outputs": [
    {
     "name": "stdout",
     "output_type": "stream",
     "text": [
      "CPU times: user 583 ms, sys: 8.71 ms, total: 592 ms\n",
      "Wall time: 590 ms\n"
     ]
    }
   ],
   "source": [
    "%%time\n",
    "C, F = forward(X, tr, em_fn, init_dist, method='loop')"
   ]
  },
  {
   "cell_type": "code",
   "execution_count": 25,
   "metadata": {
    "collapsed": false
   },
   "outputs": [
    {
     "data": {
      "text/plain": [
       "-137843.0247453147"
      ]
     },
     "execution_count": 25,
     "metadata": {},
     "output_type": "execute_result"
    }
   ],
   "source": [
    "# Log-likelihood of the data\n",
    "np.sum(np.log(C))"
   ]
  },
  {
   "cell_type": "markdown",
   "metadata": {},
   "source": [
    "## Likelihood of a particular path"
   ]
  },
  {
   "cell_type": "markdown",
   "metadata": {},
   "source": [
    "Here I demonstrate the relatively easy problem of calculating the probability of the observations given a path of hidden states."
   ]
  },
  {
   "cell_type": "code",
   "execution_count": 26,
   "metadata": {
    "collapsed": false
   },
   "outputs": [],
   "source": [
    "base_idx = { 'A' : 0, 'G' : 1, 'C' : 2, 'T' : 3 }\n",
    "state_idx = { '+' : 0, '-' : 1 }\n",
    "\n",
    "# initial distribution over states, i.e. probability of starting in state k\n",
    "init_dist = [0.5,0.5]\n",
    "\n",
    "# transition probabilities\n",
    "tr = [\n",
    "    #  to+   to-\n",
    "    [ 0.99, 0.01 ], # from+\n",
    "    [ 0.01, 0.99 ]  # from-\n",
    "]\n",
    "\n",
    "\n",
    "# emission probabilities\n",
    "em = [\n",
    "    #    A     G     C     T\n",
    "    [ 0.20, 0.30, 0.30, 0.20], # +\n",
    "    [ 0.30, 0.20, 0.20, 0.30]  # -\n",
    "]\n",
    "\n",
    "em_log = [[np.log(p) for p in r] for r in em]"
   ]
  },
  {
   "cell_type": "code",
   "execution_count": 27,
   "metadata": {
    "collapsed": false
   },
   "outputs": [],
   "source": [
    "with open(\"hmmgen\") as f:\n",
    "    X = f.readline().strip()\n",
    "    ref = f.readline().strip()\n",
    "    \n",
    "X = [base_idx[l] for l in X]\n",
    "ref = [state_idx[s] for s in ref]"
   ]
  },
  {
   "cell_type": "code",
   "execution_count": 28,
   "metadata": {
    "collapsed": true
   },
   "outputs": [],
   "source": [
    "em_fn = em_matrix(em_log)"
   ]
  },
  {
   "cell_type": "code",
   "execution_count": 29,
   "metadata": {
    "collapsed": true
   },
   "outputs": [],
   "source": [
    "Z = [0] * len(X)"
   ]
  },
  {
   "cell_type": "code",
   "execution_count": 30,
   "metadata": {
    "collapsed": false
   },
   "outputs": [
    {
     "data": {
      "text/plain": [
       "-15.661584003257966"
      ]
     },
     "execution_count": 30,
     "metadata": {},
     "output_type": "execute_result"
    }
   ],
   "source": [
    "path(X[0:10], Z[0:10], tr, em_fn, init_dist)"
   ]
  },
  {
   "cell_type": "markdown",
   "metadata": {},
   "source": [
    "#### Compare to total prob from forward alg"
   ]
  },
  {
   "cell_type": "code",
   "execution_count": 34,
   "metadata": {
    "collapsed": true
   },
   "outputs": [],
   "source": [
    "em_fn = em_matrix(em)"
   ]
  },
  {
   "cell_type": "code",
   "execution_count": 35,
   "metadata": {
    "collapsed": false
   },
   "outputs": [
    {
     "data": {
      "text/plain": [
       "-13.77045172640473"
      ]
     },
     "execution_count": 35,
     "metadata": {},
     "output_type": "execute_result"
    }
   ],
   "source": [
    "C, F = forward(X[0:10], tr, em_fn, init_dist)\n",
    "np.sum(np.log(C))"
   ]
  }
 ],
 "metadata": {
  "anaconda-cloud": {},
  "kernelspec": {
   "display_name": "Python [default]",
   "language": "python",
   "name": "python3"
  },
  "language_info": {
   "codemirror_mode": {
    "name": "ipython",
    "version": 3
   },
   "file_extension": ".py",
   "mimetype": "text/x-python",
   "name": "python",
   "nbconvert_exporter": "python",
   "pygments_lexer": "ipython3",
   "version": "3.5.2"
  }
 },
 "nbformat": 4,
 "nbformat_minor": 1
}
